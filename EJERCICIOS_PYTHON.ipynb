{
 "cells": [
  {
   "cell_type": "code",
   "execution_count": 3,
   "id": "7cc753ca",
   "metadata": {},
   "outputs": [
    {
     "name": "stdout",
     "output_type": "stream",
     "text": [
      "Ejercicio 1: {'h': 1, 'o': 2, 'l': 1, 'a': 1, 'm': 1, 'u': 1, 'n': 1, 'd': 1}\n"
     ]
    }
   ],
   "source": [
    "# Ejercicio 1: función que recibe una cadena y devuelve dict con frecuencia de letras (sin espacios)\n",
    "def frecuencia_letras(cadena_texto: str) -> dict:\n",
    "    cadena_texto = cadena_texto.replace(' ', '')\n",
    "    frec = {}\n",
    "    for ch in cadena_texto:\n",
    "        frec[ch] = frec.get(ch, 0) + 1\n",
    "    return frec\n",
    "print('Ejercicio 1:', frecuencia_letras('hola mundo'))"
   ]
  },
  {
   "cell_type": "code",
   "execution_count": 4,
   "id": "cd7c41e6",
   "metadata": {},
   "outputs": [
    {
     "name": "stdout",
     "output_type": "stream",
     "text": [
      "Ejercicio 2: [2, 4, 6]\n"
     ]
    }
   ],
   "source": [
    "# Ejercicio 2: dada lista de números, nueva lista con el doble usando map()\n",
    "def doblar_lista(numeros):\n",
    "    return list(map(lambda x: x*2, numeros))\n",
    "print('Ejercicio 2:', doblar_lista([1, 2, 3]))"
   ]
  },
  {
   "cell_type": "code",
   "execution_count": 6,
   "id": "a0cdc9fc",
   "metadata": {},
   "outputs": [
    {
     "name": "stdout",
     "output_type": "stream",
     "text": [
      "Ejercicio 3: ['python', 'pycharm']\n"
     ]
    }
   ],
   "source": [
    "# Ejercicio 3: Escribe una función que tome una lista de palabras y una palabra objetivo como parámetros. La función debe devolver una lista con todas las palabras de la lista original que contengan la palabra objetivo.\n",
    "def palabras_con_contiene(lista_palabras, texto_objetivo):\n",
    "    return [p for p in lista_palabras if texto_objetivo in p]\n",
    "print('Ejercicio 3:', palabras_con_contiene(['python','java','pycharm'], 'py'))"
   ]
  },
  {
   "cell_type": "code",
   "execution_count": 7,
   "id": "cae84827",
   "metadata": {},
   "outputs": [
    {
     "name": "stdout",
     "output_type": "stream",
     "text": [
      "Ejercicio 4: [3, 3, 2]\n"
     ]
    }
   ],
   "source": [
    "# Ejercicio 4: Genera una función que calcule la diferencia entre los valores de dos listas. Usa la función map()\n",
    "def diferencia_listas(a, b):\n",
    "    return list(map(lambda x, y: x - y, a[:min(len(a), len(b))], b[:min(len(a), len(b))]))\n",
    "print('Ejercicio 4:', diferencia_listas([5, 7, 10], [2, 4, 8]))\n"
   ]
  },
  {
   "cell_type": "code",
   "execution_count": 8,
   "id": "c984c3b4",
   "metadata": {},
   "outputs": [
    {
     "name": "stdout",
     "output_type": "stream",
     "text": [
      "Ejercicio 5: (6.0, 'aprobado')\n"
     ]
    }
   ],
   "source": [
    "# Ejercicio 5:  Ecribe una función que tome una lista de números como parámetro y un valor opcional nota_aprobado, que por defecto es 5. La función debe calcular la media de los números en la lista y determinar si la media es mayor o igual que nota aprobado. Si es así, el estado será \"aprobado\", de lo contrario, será \"suspenso\". La función debe devolver una tupla que contenga la media y el estado.\n",
    "\n",
    "def calcular_media_y_estado(numeros, nota_aprobado=5):\n",
    "    if not numeros:\n",
    "        raise ValueError('Lista vacía')\n",
    "    media = sum(numeros)/len(numeros)\n",
    "    estado = 'aprobado' if media >= nota_aprobado else 'suspenso'\n",
    "    return (media, estado)\n",
    "print('Ejercicio 5:', calcular_media_y_estado([4, 6, 8]))\n"
   ]
  },
  {
   "cell_type": "code",
   "execution_count": 9,
   "id": "bb9c58d9",
   "metadata": {},
   "outputs": [
    {
     "name": "stdout",
     "output_type": "stream",
     "text": [
      "Ejercicio 6: 120\n"
     ]
    }
   ],
   "source": [
    "# Ejercicio 6: Escribe una función que calcule el factorial de un número de manera recursiva.\n",
    "def factorial(n):\n",
    "    if n < 0:\n",
    "        raise ValueError('Factorial no definido para negativos')\n",
    "    return 1 if n in (0, 1) else n * factorial(n - 1)\n",
    "print('Ejercicio 6:', factorial(5))"
   ]
  },
  {
   "cell_type": "code",
   "execution_count": 14,
   "id": "f021cb14",
   "metadata": {},
   "outputs": [
    {
     "name": "stdout",
     "output_type": "stream",
     "text": [
      "Ejercicio 7: ['1 2', 'a b']\n"
     ]
    }
   ],
   "source": [
    "# Ejercicio 7: Genera una función que convierta una lista de tuplas a una lista de strings. Usa la función map()\n",
    "def tuplas_a_strings(lista_tuplas):\n",
    "    return list(map(lambda t: \" \".join(map(str, t)), lista_tuplas))\n",
    "print('Ejercicio 7:', tuplas_a_strings([(1, 2), ('a', 'b')]))"
   ]
  },
  {
   "cell_type": "code",
   "execution_count": 16,
   "id": "ce31a93f",
   "metadata": {},
   "outputs": [
    {
     "name": "stdout",
     "output_type": "stream",
     "text": [
      "Ejercicio 8: División exitosa: 5.0\n",
      "Ejercicio 8 (error): Error: división por cero.\n"
     ]
    }
   ],
   "source": [
    "# Ejercicio 8:  Escribe un programa que pida al usuario dos números e intente dividirlos. Si el usuario ingresa un valor no numérico o intenta dividir por cero, maneja esas excepciones de manera adecuada. Asegúrate de mostrar un mensaje indicando si la división fue exitosa o no.\n",
    "def dividir_input(a, b):\n",
    "    try:\n",
    "        a = float(a)\n",
    "        b = float(b)\n",
    "        resultado = a / b\n",
    "        return f\"División exitosa: {resultado}\"\n",
    "    except ValueError:\n",
    "        return \"Error: valor no numérico.\"\n",
    "    except ZeroDivisionError:\n",
    "        return \"Error: división por cero.\"\n",
    "print('Ejercicio 8:', dividir_input('10', '2'))\n",
    "print('Ejercicio 8 (error):', dividir_input('10', '0'))"
   ]
  },
  {
   "cell_type": "code",
   "execution_count": 17,
   "id": "2095cafb",
   "metadata": {},
   "outputs": [
    {
     "name": "stdout",
     "output_type": "stream",
     "text": [
      "Ejercicio 9: ['Perro', 'Gato']\n"
     ]
    }
   ],
   "source": [
    "# Ejercicio 9: Escribe una función que tome una lista de nombres de mascotas como parámetro y devuelva una nueva lista excluyendo ciertas mascotas prohibidas en España. La lista de mascotas a excluir es [\"Mapache\", \"Tigre\", \"Serpiente Pitón\", \"Cocodrilo\", \"Oso\"].Usa la función filter()\n",
    "PROHIBIDAS = [\"Mapache\", \"Tigre\", \"Serpiente Pitón\", \"Cocodrilo\", \"Oso\"]\n",
    "def filtrar_mascotas(mascotas):\n",
    "    return list(filter(lambda m: m not in PROHIBIDAS, mascotas))\n",
    "print('Ejercicio 9:', filtrar_mascotas([\"Perro\", \"Gato\", \"Tigre\"]))"
   ]
  },
  {
   "cell_type": "code",
   "execution_count": 18,
   "id": "2986b620",
   "metadata": {},
   "outputs": [
    {
     "name": "stdout",
     "output_type": "stream",
     "text": [
      "Ejercicio 10: 5.0\n"
     ]
    }
   ],
   "source": [
    "# Ejercicio 10:  Escribe una función que reciba una lista de números y calcule su promedio. Si la lista está vacía, lanza una excepción personalizada y maneja el error adecuadamente.\n",
    "class ListaVaciaError(Exception):\n",
    "    pass\n",
    "def promedio(numeros):\n",
    "    if not numeros:\n",
    "        raise ListaVaciaError(\"Lista vacía\")\n",
    "    return sum(numeros)/len(numeros)\n",
    "print('Ejercicio 10:', promedio([5, 5, 5]))"
   ]
  },
  {
   "cell_type": "code",
   "execution_count": 19,
   "id": "f2bafc8f",
   "metadata": {},
   "outputs": [
    {
     "name": "stdout",
     "output_type": "stream",
     "text": [
      "Ejercicio 11: 25\n"
     ]
    }
   ],
   "source": [
    "# Ejercicio 11:  Escribe un programa que pida al usuario que introduzca su edad. Si el usuario ingresa un valor no numérico o un valor fuera del rango esperado (por ejemplo, menor que 0 o mayor que 120), maneja las excepciones adecuadamente.\n",
    "def validar_edad(edad):\n",
    "    try:\n",
    "        e = int(edad)\n",
    "    except ValueError:\n",
    "        raise ValueError(\"Edad debe ser un número entero\")\n",
    "    if e < 0 or e > 120:\n",
    "        raise ValueError(\"Edad fuera de rango\")\n",
    "    return e\n",
    "print('Ejercicio 11:', validar_edad(25))"
   ]
  },
  {
   "cell_type": "code",
   "execution_count": 20,
   "id": "fe9d2982",
   "metadata": {},
   "outputs": [
    {
     "name": "stdout",
     "output_type": "stream",
     "text": [
      "Ejercicio 12: [4, 5, 2, 6]\n"
     ]
    }
   ],
   "source": [
    "# Ejercicio 12: Genera una función que al recibir una frase devuelva una lista con la longitud de cada palabra. Usa la función map()\n",
    "def longitudes_palabras(frase):\n",
    "    return list(map(len, frase.split()))\n",
    "print('Ejercicio 12:', longitudes_palabras(\"hola mundo en python\"))\n"
   ]
  },
  {
   "cell_type": "code",
   "execution_count": 21,
   "id": "19240da8",
   "metadata": {},
   "outputs": [
    {
     "name": "stdout",
     "output_type": "stream",
     "text": [
      "Ejercicio 13: [('A', 'a'), ('B', 'b'), ('C', 'c'), ('A', 'a'), ('B', 'b'), ('C', 'c')]\n"
     ]
    }
   ],
   "source": [
    "# Ejercicio 13: Genera una función la cual, para un conjunto de caracteres, devuelva una lista de tuplas con cada letra en mayúsculas y minúsculas. Las letras no pueden estar repetidas .Usa la función map()\n",
    "def mayus_minus_unicas(chars):\n",
    "    unicos = list(dict.fromkeys(chars))\n",
    "    return list(map(lambda c: (c.upper(), c.lower()), unicos))\n",
    "print('Ejercicio 13:', mayus_minus_unicas(\"abcABC\"))"
   ]
  },
  {
   "cell_type": "code",
   "execution_count": 22,
   "id": "6c9a20ba",
   "metadata": {},
   "outputs": [
    {
     "name": "stdout",
     "output_type": "stream",
     "text": [
      "Ejercicio 14: ['python']\n"
     ]
    }
   ],
   "source": [
    "# Ejercicio 14: Crea una función que retorne las palabras de una lista de palabras que comience con una letra en especifico. Usa la función filter()\n",
    "def palabras_empiezan_por(palabras, letra):\n",
    "    return list(filter(lambda p: p.startswith(letra), palabras))\n",
    "print('Ejercicio 14:', palabras_empiezan_por([\"python\", \"java\"], \"p\"))"
   ]
  },
  {
   "cell_type": "code",
   "execution_count": 23,
   "id": "3e033c1b",
   "metadata": {},
   "outputs": [
    {
     "name": "stdout",
     "output_type": "stream",
     "text": [
      "Ejercicio 15: [4, 5, 6]\n"
     ]
    }
   ],
   "source": [
    "# Ejercicio 15: Crea una función lambda que sume 3 a cada número de una lista dada.\n",
    "sumar_tres = lambda lista: list(map(lambda x: x+3, lista))\n",
    "print('Ejercicio 15:', sumar_tres([1, 2, 3]))"
   ]
  },
  {
   "cell_type": "code",
   "execution_count": 24,
   "id": "f98e5589",
   "metadata": {},
   "outputs": [
    {
     "name": "stdout",
     "output_type": "stream",
     "text": [
      "Ejercicio 16: ['mundo', 'maravilloso']\n"
     ]
    }
   ],
   "source": [
    "# Ejercicio 16: Escribe una función que tome una cadena de texto y un número entero n como parámetros y devuelva una lista de todas las palabras que sean más largas que n. Usa la función filter()\n",
    "def palabras_mas_largas_que(frase, n):\n",
    "    return list(filter(lambda w: len(w) > n, frase.split()))\n",
    "print('Ejercicio 16:', palabras_mas_largas_que(\"hola mundo maravilloso\", 4))"
   ]
  },
  {
   "cell_type": "code",
   "execution_count": 25,
   "id": "0184ec13",
   "metadata": {},
   "outputs": [
    {
     "name": "stdout",
     "output_type": "stream",
     "text": [
      "Ejercicio 17: 572\n"
     ]
    }
   ],
   "source": [
    "# Ejercicio 17: Crea una función que tome una lista de dígitos y devuelva el número correspondiente. Por ejemplo, [5,7,2] corresponde al número quinientos setenta y dos (572). Usa la función reduce()\n",
    "from functools import reduce\n",
    "def digitos_a_numero(digs):\n",
    "    if not digs:\n",
    "        return 0\n",
    "    return reduce(lambda acc, d: acc*10 + int(d), digs, 0)\n",
    "print('Ejercicio 17:', digitos_a_numero([5, 7, 2]))"
   ]
  },
  {
   "cell_type": "code",
   "execution_count": 26,
   "id": "f527a683",
   "metadata": {},
   "outputs": [
    {
     "name": "stdout",
     "output_type": "stream",
     "text": [
      "Ejercicio 18: [{'nombre': 'Ana', 'edad': 20, 'calificacion': 95}]\n"
     ]
    }
   ],
   "source": [
    "# Ejercicio 18: Escribe un programa en Python que cree una lista de diccionarios que contenga información de estudiantes (nombre, edad, calificación) y use la función filter para extraer a los estudiantes con una calificación mayor o igual a 90. Usa la función filter()\n",
    "def estudiantes_notables(estudiantes):\n",
    "    return list(filter(lambda s: s.get('calificacion', 0) >= 90, estudiantes))\n",
    "print('Ejercicio 18:', estudiantes_notables([{'nombre':'Ana','edad':20,'calificacion':95}, {'nombre':'Luis','edad':22,'calificacion':80}]))"
   ]
  },
  {
   "cell_type": "code",
   "execution_count": 27,
   "id": "2e38ac0e",
   "metadata": {},
   "outputs": [
    {
     "name": "stdout",
     "output_type": "stream",
     "text": [
      "Ejercicio 19: [1, 3, 5]\n"
     ]
    }
   ],
   "source": [
    "# Ejercicio 19: Crea una función lambda que filtre los números impares de una lista dada.\n",
    "filtrar_impares = lambda lista: list(filter(lambda x: x % 2 != 0, lista))\n",
    "print('Ejercicio 19:', filtrar_impares([1, 2, 3, 4, 5]))"
   ]
  },
  {
   "cell_type": "code",
   "execution_count": 28,
   "id": "712f1e51",
   "metadata": {},
   "outputs": [
    {
     "name": "stdout",
     "output_type": "stream",
     "text": [
      "Ejercicio 20: [1, 3]\n"
     ]
    }
   ],
   "source": [
    "# Ejercicio 20:  Para una lista con elementos tipo integer y string obtén una nueva lista sólo con los valores int. Usa la función filter()\n",
    "def solo_enteros(lista):\n",
    "    return list(filter(lambda x: isinstance(x, int) and not isinstance(x, bool), lista))\n",
    "print('Ejercicio 20:', solo_enteros([1, 'a', 3, True]))"
   ]
  },
  {
   "cell_type": "code",
   "execution_count": 29,
   "id": "f4b89f5f",
   "metadata": {},
   "outputs": [
    {
     "name": "stdout",
     "output_type": "stream",
     "text": [
      "Ejercicio 21: 27\n"
     ]
    }
   ],
   "source": [
    "# Ejercicio 21: Crea una función que calcule el cubo de un número dado mediante una función lambda\n",
    "cubo = lambda x: x**3\n",
    "print('Ejercicio 21:', cubo(3))"
   ]
  },
  {
   "cell_type": "code",
   "execution_count": 30,
   "id": "26bd124e",
   "metadata": {},
   "outputs": [
    {
     "name": "stdout",
     "output_type": "stream",
     "text": [
      "Ejercicio 22: 24\n"
     ]
    }
   ],
   "source": [
    "# Ejercicio 22: Dada una lista numérica, obtén el producto total de los valores de dicha lista.Usa la función reduce().\n",
    "def producto_total(nums):\n",
    "    if not nums:\n",
    "        return 0\n",
    "    return reduce(lambda a,b: a*b, nums, 1)\n",
    "print('Ejercicio 22:', producto_total([2, 3, 4]))"
   ]
  },
  {
   "cell_type": "code",
   "execution_count": 31,
   "id": "3ca051fd",
   "metadata": {},
   "outputs": [
    {
     "name": "stdout",
     "output_type": "stream",
     "text": [
      "Ejercicio 23: hola mundo\n"
     ]
    }
   ],
   "source": [
    "# Ejercicio 23: Concatena una lista de palabras.Usa la función reduce() .\n",
    "def concatenar_palabras(palabras, sep=\" \"):\n",
    "    if not palabras:\n",
    "        return \"\"\n",
    "    return reduce(lambda a,b: f\"{a}{sep}{b}\", palabras)\n",
    "print('Ejercicio 23:', concatenar_palabras([\"hola\", \"mundo\"]))"
   ]
  },
  {
   "cell_type": "code",
   "execution_count": 32,
   "id": "b00f44ee",
   "metadata": {},
   "outputs": [
    {
     "name": "stdout",
     "output_type": "stream",
     "text": [
      "Ejercicio 24: 8\n"
     ]
    }
   ],
   "source": [
    "# Ejercicio 24: Calcula la diferencia total en los valores de una lista. Usa la función reduce() .\n",
    "def diferencia_total(vals):\n",
    "    if len(vals) < 2:\n",
    "        return 0\n",
    "    diffs = [abs(vals[i] - vals[i-1]) for i in range(1, len(vals))]\n",
    "    return sum(diffs)\n",
    "print('Ejercicio 24:', diferencia_total([5, 8, 3]))"
   ]
  },
  {
   "cell_type": "code",
   "execution_count": 33,
   "id": "28357df0",
   "metadata": {},
   "outputs": [
    {
     "name": "stdout",
     "output_type": "stream",
     "text": [
      "Ejercicio 25: 4\n"
     ]
    }
   ],
   "source": [
    "# Ejercicio 25: Crea una función que cuente el número de caracteres en una cadena de texto dada.\n",
    "def contar_caracteres(s):\n",
    "    return len(s)\n",
    "print('Ejercicio 25:', contar_caracteres(\"hola\"))"
   ]
  },
  {
   "cell_type": "code",
   "execution_count": 34,
   "id": "ef2cf9cb",
   "metadata": {},
   "outputs": [
    {
     "name": "stdout",
     "output_type": "stream",
     "text": [
      "Ejercicio 26: 1\n"
     ]
    }
   ],
   "source": [
    "# Ejercicio 26: Crea una función lambda que calcule el resto de la división entre dos números dados.\n",
    "resto = lambda a,b: a % b\n",
    "print('Ejercicio 26:', resto(10, 3))"
   ]
  },
  {
   "cell_type": "code",
   "execution_count": 35,
   "id": "85fc3835",
   "metadata": {},
   "outputs": [
    {
     "name": "stdout",
     "output_type": "stream",
     "text": [
      "Ejercicio 27: 6.0\n"
     ]
    }
   ],
   "source": [
    "# Ejercicio 27: Crea una función que calcule el promedio de una lista de números.\n",
    "promedio_lista = promedio\n",
    "print('Ejercicio 27:', promedio_lista([4, 6, 8]))"
   ]
  },
  {
   "cell_type": "code",
   "execution_count": 36,
   "id": "eb094697",
   "metadata": {},
   "outputs": [
    {
     "name": "stdout",
     "output_type": "stream",
     "text": [
      "Ejercicio 28: 2\n"
     ]
    }
   ],
   "source": [
    "# Ejercicio 28: Crea una función que busque y devuelva el primer elemento duplicado en una lista dada.\n",
    "def primer_duplicado(lst):\n",
    "    vistos = set()\n",
    "    for x in lst:\n",
    "        if x in vistos:\n",
    "            return x\n",
    "        vistos.add(x)\n",
    "    return None\n",
    "print('Ejercicio 28:', primer_duplicado([1, 2, 3, 2, 5]))"
   ]
  },
  {
   "cell_type": "code",
   "execution_count": 37,
   "id": "e2b21899",
   "metadata": {},
   "outputs": [
    {
     "name": "stdout",
     "output_type": "stream",
     "text": [
      "Ejercicio 29: ####5678\n"
     ]
    }
   ],
   "source": [
    "# Ejercicio 29: Crea una función que convierta una variable en una cadena de texto y enmascare todos los caracteres con el carácter '#', excepto los últimos cuatro.\n",
    "def enmascarar(var):\n",
    "    s = str(var)\n",
    "    if len(s) <= 4:\n",
    "        return s\n",
    "    return \"#\"*(len(s)-4) + s[-4:]\n",
    "print('Ejercicio 29:', enmascarar(\"12345678\"))"
   ]
  },
  {
   "cell_type": "code",
   "execution_count": 38,
   "id": "d426cedc",
   "metadata": {},
   "outputs": [
    {
     "name": "stdout",
     "output_type": "stream",
     "text": [
      "Ejercicio 30: True\n"
     ]
    }
   ],
   "source": [
    "# Ejercicio 30:  Crea una función que determine si dos palabras son anagramas, es decir, si están formadas por las mismas letras pero en diferente orden.\n",
    "def son_anagramas(a, b):\n",
    "    return sorted(a.replace(\" \", \"\").lower()) == sorted(b.replace(\" \", \"\").lower())\n",
    "print('Ejercicio 30:', son_anagramas(\"roma\", \"amor\"))"
   ]
  },
  {
   "cell_type": "code",
   "execution_count": 39,
   "id": "58d211ce",
   "metadata": {},
   "outputs": [
    {
     "name": "stdout",
     "output_type": "stream",
     "text": [
      "Ejercicio 31: Luis encontrado\n"
     ]
    }
   ],
   "source": [
    "# Ejercicio 31: Crea una función que solicite al usuario ingresar una lista de nombres y luego solicite un nombre para buscar en esa lista. Si el nombre está en la lista, se imprime un mensaje indicando que fue encontrado, de lo contrario, se lanza una excepción.\n",
    "class NombreNoEncontradoError(Exception):\n",
    "    pass\n",
    "def buscar_nombre_en_lista(nombres, nombre_buscar):\n",
    "    if nombre_buscar in nombres:\n",
    "        return f\"{nombre_buscar} encontrado\"\n",
    "    raise NombreNoEncontradoError(f\"{nombre_buscar} no está en la lista\")\n",
    "print('Ejercicio 31:', buscar_nombre_en_lista([\"Ana\", \"Luis\"], \"Luis\"))"
   ]
  },
  {
   "cell_type": "code",
   "execution_count": 40,
   "id": "ab32e375",
   "metadata": {},
   "outputs": [
    {
     "name": "stdout",
     "output_type": "stream",
     "text": [
      "Ejercicio 32: Gerente\n"
     ]
    }
   ],
   "source": [
    "# Ejercicio 32:  Crea una función que tome un nombre completo y una lista de empleados, busque el nombre completo en la lista y devuelve el puesto del empleado si está en la lista, de lo contrario, devuelve un mensaje indicando que la persona no trabaja aquí.\n",
    "def puesto_de_empleado(nombre_completo, empleados):\n",
    "    for e in empleados:\n",
    "        if e.get('nombre_completo') == nombre_completo:\n",
    "            return e.get('puesto')\n",
    "    return \"La persona no trabaja aquí\"\n",
    "print('Ejercicio 32:', puesto_de_empleado(\"Juan Perez\", [{'nombre_completo':'Juan Perez','puesto':'Gerente'}]))"
   ]
  },
  {
   "cell_type": "code",
   "execution_count": 41,
   "id": "b40d2443",
   "metadata": {},
   "outputs": [
    {
     "name": "stdout",
     "output_type": "stream",
     "text": [
      "Ejercicio 33: [4, 6]\n"
     ]
    }
   ],
   "source": [
    "# Ejercicio 33: Crea una función lambda que sume elementos correspondientes de dos listas dadas.\n",
    "sumar_listas = lambda a,b: list(map(lambda x,y: x+y, a[:min(len(a),len(b))], b[:min(len(a),len(b))]))\n",
    "print('Ejercicio 33:', sumar_listas([1, 2], [3, 4]))"
   ]
  },
  {
   "cell_type": "code",
   "execution_count": 42,
   "id": "e5e27183",
   "metadata": {},
   "outputs": [
    {
     "name": "stdout",
     "output_type": "stream",
     "text": [
      "Ejercicio 34: {'tronco': 2, 'num_ramas': 2, 'longitudes_ramas': [2, 1]}\n"
     ]
    }
   ],
   "source": [
    "# Ejercicio 34:  Crea la clase Arbol , define un árbol genérico con un tronco y ramas como atributos. Los métodos disponibles son: crecer_tronco , nueva_rama , crecer_ramas , quitar_rama e info_arbol . El objetivo es implementar estos métodos para manipular la estructura del árbol.\n",
    "class Arbol:\n",
    "    def __init__(self):\n",
    "        self.tronco = 1\n",
    "        self.ramas = []\n",
    "    def crecer_tronco(self):\n",
    "        self.tronco += 1\n",
    "    def nueva_rama(self):\n",
    "        self.ramas.append(1)\n",
    "    def crecer_ramas(self):\n",
    "        self.ramas = [r + 1 for r in self.ramas]\n",
    "    def quitar_rama(self, pos):\n",
    "        if pos < 1 or pos > len(self.ramas):\n",
    "            raise IndexError(\"Posición inválida\")\n",
    "        del self.ramas[pos-1]\n",
    "    def info_arbol(self):\n",
    "        return {\"tronco\": self.tronco, \"num_ramas\": len(self.ramas), \"longitudes_ramas\": self.ramas}\n",
    "arbol = Arbol()\n",
    "arbol.crecer_tronco()\n",
    "arbol.nueva_rama()\n",
    "arbol.crecer_ramas()\n",
    "arbol.nueva_rama()\n",
    "arbol.nueva_rama()\n",
    "arbol.quitar_rama(2)\n",
    "print('Ejercicio 34:', arbol.info_arbol())"
   ]
  },
  {
   "cell_type": "code",
   "execution_count": 43,
   "id": "bafd4a29",
   "metadata": {},
   "outputs": [
    {
     "name": "stdout",
     "output_type": "stream",
     "text": [
      "Ejercicio 35-36: -30.0 150.0\n"
     ]
    }
   ],
   "source": [
    "# Ejercicio 36: Crea la clase UsuarioBanco ,representa a un usuario de un banco con su nombre, saldo y si tiene o no cuenta corriente. Proporciona métodos para realizar operaciones como retirar dinero, transferir dinero desde otro usuario y agregar dinero al saldo.\n",
    "class UsuarioBanco:\n",
    "    def __init__(self, nombre, saldo=0, cuenta_corriente=False):\n",
    "        self.nombre = nombre\n",
    "        self.saldo = float(saldo)\n",
    "        self.cuenta_corriente = bool(cuenta_corriente)\n",
    "    def retirar_dinero(self, cantidad):\n",
    "        if cantidad < 0:\n",
    "            raise ValueError(\"Cantidad negativa\")\n",
    "        if cantidad > self.saldo and not self.cuenta_corriente:\n",
    "            raise ValueError(\"Fondos insuficientes\")\n",
    "        self.saldo -= cantidad\n",
    "    def transferir_dinero(self, otro_usuario, cantidad):\n",
    "        if cantidad < 0:\n",
    "            raise ValueError(\"Cantidad negativa\")\n",
    "        if cantidad > otro_usuario.saldo and not otro_usuario.cuenta_corriente:\n",
    "            raise ValueError(\"El emisor no tiene fondos suficientes\")\n",
    "        otro_usuario.saldo -= cantidad\n",
    "        self.saldo += cantidad\n",
    "    def agregar_dinero(self, cantidad):\n",
    "        if cantidad < 0:\n",
    "            raise ValueError(\"Cantidad negativa\")\n",
    "        self.saldo += cantidad\n",
    "alicia = UsuarioBanco(\"Alicia\", 100, True)\n",
    "bob = UsuarioBanco(\"Bob\", 50, True)\n",
    "bob.agregar_dinero(20)\n",
    "bob.transferir_dinero(alicia, 80)\n",
    "alicia.retirar_dinero(50)\n",
    "print('Ejercicio 35-36:', alicia.saldo, bob.saldo)"
   ]
  },
  {
   "cell_type": "code",
   "execution_count": 44,
   "id": "0c2e5335",
   "metadata": {},
   "outputs": [
    {
     "name": "stdout",
     "output_type": "stream",
     "text": [
      "Ejercicio 37 contar: {'hola': 2, 'mundo': 1}\n",
      "Ejercicio 37 reemplazar: hola python\n",
      "Ejercicio 37 eliminar: mundo\n"
     ]
    }
   ],
   "source": [
    "# Ejercicio 37: Crea una función llamada procesar_texto que procesa un texto según la opción especificada: contar_palabras , reemplazar_palabras , eliminar_palabra . Estas opciones son otras funciones que tenemos que definir primero y llamar dentro de la función procesar_texto .\n",
    "def contar_palabras(texto):\n",
    "    palabras = texto.split()\n",
    "    frec = {}\n",
    "    for w in palabras:\n",
    "        frec[w] = frec.get(w, 0) + 1\n",
    "    return frec\n",
    "def reemplazar_palabras(texto, original, nueva):\n",
    "    return texto.replace(original, nueva)\n",
    "def eliminar_palabra(texto, palabra):\n",
    "    return \" \".join([w for w in texto.split() if w != palabra])\n",
    "def procesar_texto(texto, opcion, *args):\n",
    "    if opcion == \"contar\":\n",
    "        return contar_palabras(texto)\n",
    "    elif opcion == \"reemplazar\":\n",
    "        return reemplazar_palabras(texto, args[0], args[1])\n",
    "    elif opcion == \"eliminar\":\n",
    "        return eliminar_palabra(texto, args[0])\n",
    "print('Ejercicio 37 contar:', procesar_texto(\"hola hola mundo\", \"contar\"))\n",
    "print('Ejercicio 37 reemplazar:', procesar_texto(\"hola mundo\", \"reemplazar\", \"mundo\", \"python\"))\n",
    "print('Ejercicio 37 eliminar:', procesar_texto(\"hola mundo hola\", \"eliminar\", \"hola\"))"
   ]
  },
  {
   "cell_type": "code",
   "execution_count": 45,
   "id": "660fc71a",
   "metadata": {},
   "outputs": [
    {
     "name": "stdout",
     "output_type": "stream",
     "text": [
      "Ejercicio 38: tarde\n"
     ]
    }
   ],
   "source": [
    "# Ejercicio 38: Genera un programa que nos diga si es de noche, de día o tarde según la hora proporcionada por el usuario.\n",
    "def momento_del_dia(hora):\n",
    "    h = int(hora)\n",
    "    if h < 0 or h > 23:\n",
    "        raise ValueError(\"Hora inválida\")\n",
    "    if 6 <= h < 12:\n",
    "        return \"mañana\"\n",
    "    elif 12 <= h < 20:\n",
    "        return \"tarde\"\n",
    "    else:\n",
    "        return \"noche\"\n",
    "print('Ejercicio 38:', momento_del_dia(15))"
   ]
  },
  {
   "cell_type": "code",
   "execution_count": 49,
   "id": "1e10d396",
   "metadata": {},
   "outputs": [
    {
     "name": "stdout",
     "output_type": "stream",
     "text": [
      "Ejercicio 39: muy bien\n"
     ]
    }
   ],
   "source": [
    "# Ejercicio 39:  Escribe un programa que determine qué calificación en texto tiene un alumno en base a su calificación numérica. Las reglas de calificación son, de 0 a 69 insuficiente, de 70 a 70 bien, de 80 a 89 muy bien y de 90 a 100 excelente.\n",
    "def calificacion_texto(nota):\n",
    "    n = int(nota)\n",
    "    if n < 0 or n > 100:\n",
    "        raise ValueError(\"Nota fuera de rango\")\n",
    "    if n <= 69:\n",
    "        return \"insuficiente\"\n",
    "    elif n <= 79:\n",
    "        return \"bien\"\n",
    "    elif n <= 89:\n",
    "        return \"muy bien\"\n",
    "    else:\n",
    "        return \"excelente\"\n",
    "print('Ejercicio 39:', calificacion_texto(85))"
   ]
  },
  {
   "cell_type": "code",
   "execution_count": 50,
   "id": "af2310b5",
   "metadata": {},
   "outputs": [
    {
     "name": "stdout",
     "output_type": "stream",
     "text": [
      "Ejercicio 40: 15\n"
     ]
    }
   ],
   "source": [
    "# Ejercicio 40: Escribe una función que tome dos parámetros: figura (una cadena que puede ser \"rectangulo\" , \"circulo\" o \"triangulo\" ) y datos (una tupla con los datos necesarios para calcular el área de la figura).\n",
    "def area(figura, datos):\n",
    "    fig = figura.lower()\n",
    "    if fig == \"rectangulo\":\n",
    "        largo, ancho = datos\n",
    "        return largo * ancho\n",
    "    elif fig == \"circulo\":\n",
    "        (r,) = datos\n",
    "        return math.pi * r * r\n",
    "    elif fig == \"triangulo\":\n",
    "        base, altura = datos\n",
    "        return base * altura / 2\n",
    "print('Ejercicio 40:', area(\"rectangulo\", (5, 3)))"
   ]
  },
  {
   "cell_type": "code",
   "execution_count": 52,
   "id": "efbbec1c",
   "metadata": {},
   "outputs": [
    {
     "name": "stdout",
     "output_type": "stream",
     "text": [
      "Ejercicio 41: 80.0\n"
     ]
    }
   ],
   "source": [
    "# Ejercicio 41: En este ejercicio, se te pedirá que escribas un programa en Python que utilice condicionales para determinar el monto final de una compra en una tienda en línea, después de aplicar un descuento. El programa debe hacer lo siguiente (...)\n",
    "def aplicar_descuento(precio_original, tiene_cupon, valor_cupon=0):\n",
    "    precio = float(precio_original)\n",
    "    if tiene_cupon and valor_cupon > 0:\n",
    "        precio_final = max(0.0, precio - float(valor_cupon))\n",
    "    else:\n",
    "        precio_final = precio\n",
    "    return precio_final\n",
    "print('Ejercicio 41:', aplicar_descuento(100, True, 20))\n"
   ]
  }
 ],
 "metadata": {
  "kernelspec": {
   "display_name": "Python 3",
   "language": "python",
   "name": "python3"
  },
  "language_info": {
   "codemirror_mode": {
    "name": "ipython",
    "version": 3
   },
   "file_extension": ".py",
   "mimetype": "text/x-python",
   "name": "python",
   "nbconvert_exporter": "python",
   "pygments_lexer": "ipython3",
   "version": "3.11.9"
  }
 },
 "nbformat": 4,
 "nbformat_minor": 5
}
